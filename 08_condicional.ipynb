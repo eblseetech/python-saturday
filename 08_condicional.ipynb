{
 "cells": [
  {
   "cell_type": "code",
   "execution_count": 4,
   "metadata": {},
   "outputs": [
    {
     "name": "stdout",
     "output_type": "stream",
     "text": [
      "Aluno APROVADO\n"
     ]
    }
   ],
   "source": [
    "media = float(input('Média: '))\n",
    "\n",
    "if media >= 7:\n",
    "    print('Aluno APROVADO')\n",
    "else:\n",
    "    print('Aluno Reprovado')"
   ]
  },
  {
   "cell_type": "code",
   "execution_count": 10,
   "metadata": {},
   "outputs": [
    {
     "name": "stdout",
     "output_type": "stream",
     "text": [
      "ALUNO REPROVADO COM A MÉDIA 4.5\n"
     ]
    }
   ],
   "source": [
    "media = float(input('Média: '))\n",
    "\n",
    "if media >= 7:\n",
    "    print(f'Aluno APROVADO COM A MÉDIA {media}')\n",
    "elif media >= 5:\n",
    "    print('Aluno em RECUPERAÇÃO COM A MÉDIA {}'.format(media))\n",
    "else:\n",
    "    print('ALUNO REPROVADO COM A MÉDIA', media)"
   ]
  },
  {
   "cell_type": "code",
   "execution_count": 21,
   "metadata": {},
   "outputs": [
    {
     "name": "stdout",
     "output_type": "stream",
     "text": [
      "OK, ALUNO REPROVADO COM A MÉDIA 4.5\n"
     ]
    }
   ],
   "source": [
    "media = float(input('Média: '))\n",
    "if media >= 7 and media <= 10:\n",
    "    print('ALUNO APROVADO COM A MÉDIA', media)\n",
    "elif media >= 5 and media < 7:\n",
    "    print('ALUNO EM RECUPERAÇÃO COM A MÉDIA', media)\n",
    "elif media >= 0 and media < 5:\n",
    "    resp = str(input('SEU BOLETIM FOI ASSINADO ? [s/n]')).lower()\n",
    "    if resp == 's':\n",
    "        print('OK, ALUNO REPROVADO COM A MÉDIA', media)\n",
    "    elif resp == 'n':\n",
    "        print('LIGAR PARA OS PAIS')\n",
    "    else:\n",
    "        print('OPÇÃO INVÁLIDA')\n",
    "else:\n",
    "    print('OPÇÃO INVÁLIDA')"
   ]
  }
 ],
 "metadata": {
  "kernelspec": {
   "display_name": "Python 3",
   "language": "python",
   "name": "python3"
  },
  "language_info": {
   "codemirror_mode": {
    "name": "ipython",
    "version": 3
   },
   "file_extension": ".py",
   "mimetype": "text/x-python",
   "name": "python",
   "nbconvert_exporter": "python",
   "pygments_lexer": "ipython3",
   "version": "3.12.4"
  }
 },
 "nbformat": 4,
 "nbformat_minor": 2
}

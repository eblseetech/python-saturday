{
 "cells": [
  {
   "cell_type": "markdown",
   "metadata": {},
   "source": [
    "<H1> BREVE HISTÓRIA DO PYTHON </H1>\n",
    "<P>Python foi criado por Guido van Rossum nos anos 1980, no Centro de Pesquisa para Matemática e Computação, na Holanda. O objetivo de Guido era criar uma linguagem de programação fácil de aprender e poderosa o suficiente para desenvolvimento sério de software."
   ]
  },
  {
   "cell_type": "code",
   "execution_count": null,
   "metadata": {},
   "outputs": [
    {
     "name": "stdout",
     "output_type": "stream",
     "text": [
      "Olá,mundo, este é meu primeiro código !\n"
     ]
    }
   ],
   "source": [
    "print(\"Olá, mundo, este é meu primeiro código !\")"
   ]
  },
  {
   "cell_type": "code",
   "execution_count": 6,
   "metadata": {},
   "outputs": [
    {
     "name": "stdout",
     "output_type": "stream",
     "text": [
      "Em 1991, Python foi oficialmente lançado como uma linguagem de código aberto.\n",
      "Ao longo dos anos, Python se tornou muito popular devido à sua sintaxe clara e simples, sua ampla comunidade e\n",
      "uma grande quantidade de bibliotecas que permitem desde desenvolvimento web até inteligência artificial e análise de dados.\n"
     ]
    }
   ],
   "source": [
    "print(\"Em 1991, Python foi oficialmente lançado como uma linguagem de código aberto.\")\n",
    "print(\"Ao longo dos anos, Python se tornou muito popular devido à sua sintaxe clara e simples, sua ampla comunidade e\")\n",
    "print(\"uma grande quantidade de bibliotecas que permitem desde desenvolvimento web até inteligência artificial e análise de dados.\")"
   ]
  }
 ],
 "metadata": {
  "kernelspec": {
   "display_name": "Python 3",
   "language": "python",
   "name": "python3"
  },
  "language_info": {
   "codemirror_mode": {
    "name": "ipython",
    "version": 3
   },
   "file_extension": ".py",
   "mimetype": "text/x-python",
   "name": "python",
   "nbconvert_exporter": "python",
   "pygments_lexer": "ipython3",
   "version": "3.9.13"
  }
 },
 "nbformat": 4,
 "nbformat_minor": 2
}

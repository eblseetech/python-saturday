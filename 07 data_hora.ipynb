{
 "cells": [
  {
   "cell_type": "code",
   "execution_count": 27,
   "metadata": {},
   "outputs": [
    {
     "name": "stdout",
     "output_type": "stream",
     "text": [
      "2025-02-05 21:32:40.250064\n",
      "2025-02-05 21:32:40.250064\n",
      "21:32:40.250758\n",
      "2025-02-05\n",
      "05.02.2025 | 21:32\n",
      "06.02.2025 | 09:32\n"
     ]
    }
   ],
   "source": [
    "#instalar a biblioteca pandas para este exercício ( pip install pandas)\n",
    "\n",
    "from datetime import datetime\n",
    "from pytz import timezone\n",
    "\n",
    "print(datetime.today())\n",
    "print(datetime.now())\n",
    "print(datetime.now().time())\n",
    "print(datetime.now().date())\n",
    "print(datetime.now().strftime('%d.%m.%Y | %H:%M'))\n",
    "\n",
    "data_hora = datetime.now()\n",
    "fuso_brasil = timezone('America/Sao_Paulo')\n",
    "fuso_tokyo = timezone('Asia/Tokyo')\n",
    "data_local_TK = data_hora.astimezone(fuso_tokyo)\\\n",
    "                .strftime('%d.%m.%Y | %H:%M')\n",
    "\n",
    "print(data_local_TK)"
   ]
  }
 ],
 "metadata": {
  "kernelspec": {
   "display_name": "Python 3",
   "language": "python",
   "name": "python3"
  },
  "language_info": {
   "codemirror_mode": {
    "name": "ipython",
    "version": 3
   },
   "file_extension": ".py",
   "mimetype": "text/x-python",
   "name": "python",
   "nbconvert_exporter": "python",
   "pygments_lexer": "ipython3",
   "version": "3.12.4"
  }
 },
 "nbformat": 4,
 "nbformat_minor": 2
}

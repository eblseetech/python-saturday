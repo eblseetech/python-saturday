{
 "cells": [
  {
   "cell_type": "code",
   "execution_count": 2,
   "metadata": {},
   "outputs": [],
   "source": [
    "nome = input('Digite seu nome: ')\n"
   ]
  },
  {
   "cell_type": "markdown",
   "metadata": {},
   "source": [
    "concatenação - sequência finita e ordenada de elementos unificados pelo programador, que fazem parte de uma linguagem formal específica."
   ]
  },
  {
   "cell_type": "code",
   "execution_count": 6,
   "metadata": {},
   "outputs": [
    {
     "name": "stdout",
     "output_type": "stream",
     "text": [
      "Bom dia, meu nome é Eduardo Bacarine Lobato\n",
      "Bom dia, meu nome é Eduardo Bacarine Lobato\n"
     ]
    }
   ],
   "source": [
    "\n",
    "print('Bom dia, meu nome é', nome)\n",
    "print('Bom dia, meu nome é ' + nome)\n"
   ]
  },
  {
   "cell_type": "code",
   "execution_count": null,
   "metadata": {},
   "outputs": [
    {
     "name": "stdout",
     "output_type": "stream",
     "text": [
      "Boa noite, meu nome é José\n"
     ]
    }
   ],
   "source": [
    "print('Bom dia, meu nome é {}'.format(nome))"
   ]
  },
  {
   "cell_type": "code",
   "execution_count": null,
   "metadata": {},
   "outputs": [
    {
     "name": "stdout",
     "output_type": "stream",
     "text": [
      "Boa noite meu nome é José\n"
     ]
    }
   ],
   "source": [
    "# Fstring - é o modo mais utilizado no Python, pois transforma tudo em texto\n",
    "print(f'Bom dia, meu nome é {nome}')"
   ]
  }
 ],
 "metadata": {
  "kernelspec": {
   "display_name": "Python 3",
   "language": "python",
   "name": "python3"
  },
  "language_info": {
   "codemirror_mode": {
    "name": "ipython",
    "version": 3
   },
   "file_extension": ".py",
   "mimetype": "text/x-python",
   "name": "python",
   "nbconvert_exporter": "python",
   "pygments_lexer": "ipython3",
   "version": "3.9.13"
  }
 },
 "nbformat": 4,
 "nbformat_minor": 2
}

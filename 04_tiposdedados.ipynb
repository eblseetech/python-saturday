{
 "cells": [
  {
   "cell_type": "code",
   "execution_count": 6,
   "metadata": {},
   "outputs": [],
   "source": [
    "nome = 'Eduardo Bacarine Lobato'"
   ]
  },
  {
   "cell_type": "code",
   "execution_count": 6,
   "metadata": {},
   "outputs": [
    {
     "name": "stdout",
     "output_type": "stream",
     "text": [
      "uar : nesse comando de índice, o último caractere ( ou a sexta letra), não entra\n"
     ]
    }
   ],
   "source": [
    "print(nome[2:5], ': nesse comando de índice, o último caractere ( ou a sexta letra), não entra' )"
   ]
  },
  {
   "cell_type": "code",
   "execution_count": 7,
   "metadata": {},
   "outputs": [
    {
     "name": "stdout",
     "output_type": "stream",
     "text": [
      "o\n"
     ]
    }
   ],
   "source": [
    "print(nome[6])"
   ]
  },
  {
   "cell_type": "code",
   "execution_count": 33,
   "metadata": {},
   "outputs": [
    {
     "name": "stdout",
     "output_type": "stream",
     "text": [
      "ardo Bacarine , o índice sempre começará com zero e espaços contam. O último caractere não entra\n",
      "Lobato , com esta sintaxe, serão exibidos os caracteres a partir do que estiver digitado\n"
     ]
    }
   ],
   "source": [
    "print(nome[3:16], \", o índice sempre começará com zero e espaços contam. O último caractere não entra\")\n",
    "print(nome[17:23], \", com esta sintaxe, serão exibidos os caracteres a partir do que estiver digitado\")"
   ]
  },
  {
   "cell_type": "code",
   "execution_count": null,
   "metadata": {},
   "outputs": [
    {
     "name": "stdout",
     "output_type": "stream",
     "text": [
      "Eduardo Bacarine , em um índice,valores positivos se iniciam no primeiro caractere,em ordem crescente\n",
      "Eduardo , em um índice,valores negativos se iniciam no último caractere,em ordem decrescente \n"
     ]
    }
   ],
   "source": [
    "print(nome[0:16], \", em um índice, valores positivos se iniciam no primeiro caractere,em ordem crescente\")\n",
    "print(nome[0:-16], \", em um índice, valores negativos se iniciam no último caractere,em ordem decrescente \")"
   ]
  },
  {
   "cell_type": "code",
   "execution_count": 16,
   "metadata": {},
   "outputs": [
    {
     "name": "stdout",
     "output_type": "stream",
     "text": [
      "EDUARDO BACARINE LOBATO\n"
     ]
    }
   ],
   "source": [
    "print(nome.upper())"
   ]
  },
  {
   "cell_type": "code",
   "execution_count": 17,
   "metadata": {},
   "outputs": [
    {
     "name": "stdout",
     "output_type": "stream",
     "text": [
      "eduardo bacarine lobato\n"
     ]
    }
   ],
   "source": [
    "print(nome.lower())"
   ]
  },
  {
   "cell_type": "code",
   "execution_count": 18,
   "metadata": {},
   "outputs": [
    {
     "name": "stdout",
     "output_type": "stream",
     "text": [
      "Eduardo bacarine lobato\n"
     ]
    }
   ],
   "source": [
    "print(nome.capitalize())"
   ]
  },
  {
   "cell_type": "code",
   "execution_count": 19,
   "metadata": {},
   "outputs": [
    {
     "name": "stdout",
     "output_type": "stream",
     "text": [
      "Eduardo Bacarine Lobato\n"
     ]
    }
   ],
   "source": [
    "print(nome.title())"
   ]
  },
  {
   "cell_type": "code",
   "execution_count": 23,
   "metadata": {},
   "outputs": [
    {
     "name": "stdout",
     "output_type": "stream",
     "text": [
      "23 - Quantidade de caracteres ( o primeiro é zero ) da variável nome\n"
     ]
    }
   ],
   "source": [
    "print(len(nome), \"- Quantidade de caracteres ( o primeiro é zero ) da variável nome\")"
   ]
  },
  {
   "cell_type": "code",
   "execution_count": 28,
   "metadata": {},
   "outputs": [
    {
     "name": "stdout",
     "output_type": "stream",
     "text": [
      "Eduardo Bacarine Lobato - remove espaços desnecessários\n"
     ]
    }
   ],
   "source": [
    "print(nome.strip(), \"- remove espaços desnecessários\")"
   ]
  },
  {
   "cell_type": "code",
   "execution_count": 11,
   "metadata": {},
   "outputs": [
    {
     "name": "stdout",
     "output_type": "stream",
     "text": [
      "4  - Conta quantas vezes a letra em parênteses se repete\n",
      "1\n"
     ]
    }
   ],
   "source": [
    "print(nome.count('a'), \" - Conta quantas vezes a letra em parênteses se repete\")\n",
    "print(nome.count('E'))"
   ]
  },
  {
   "cell_type": "code",
   "execution_count": 14,
   "metadata": {},
   "outputs": [
    {
     "name": "stdout",
     "output_type": "stream",
     "text": [
      "Eduardo Baccarini Lobato - Alterar um valor pelo código\n"
     ]
    }
   ],
   "source": [
    "print(nome.replace('Bacarine', 'Baccarini'), \"- Alterar um valor pelo código\")"
   ]
  },
  {
   "cell_type": "code",
   "execution_count": 15,
   "metadata": {},
   "outputs": [
    {
     "name": "stdout",
     "output_type": "stream",
     "text": [
      "3\n"
     ]
    }
   ],
   "source": [
    "print(nome.find('a'), \"- Encontra quantas vezes o que estiver em parênteses se repetirá\")"
   ]
  },
  {
   "cell_type": "code",
   "execution_count": 19,
   "metadata": {},
   "outputs": [
    {
     "name": "stdout",
     "output_type": "stream",
     "text": [
      "Lobato\n"
     ]
    }
   ],
   "source": [
    "print(nome[17:23])"
   ]
  },
  {
   "cell_type": "code",
   "execution_count": 51,
   "metadata": {},
   "outputs": [
    {
     "name": "stdout",
     "output_type": "stream",
     "text": [
      "Bacarine Lobato - este comando contou o número de caracteres do nome e esse valor se tornou negativo. \n",
      " Daí, subtraíndo, posicionamos o cursor na posição 8, ou seja, eliminamos o primeiro nome, \n",
      " e em seguida mostramos na tela somente o sobrenome completo \n"
     ]
    }
   ],
   "source": [
    "print(nome[-(len(nome)-(nome.find('')+8)):], \"- este comando contou o número de caracteres do nome e esse valor se tornou negativo. \\n Daí, subtraíndo, posicionamos o cursor na posição 8, ou seja, eliminamos o primeiro nome, \\n e em seguida mostramos na tela somente o sobrenome completo \")"
   ]
  },
  {
   "cell_type": "code",
   "execution_count": 57,
   "metadata": {},
   "outputs": [
    {
     "name": "stdout",
     "output_type": "stream",
     "text": [
      "Marcelo Dias\n"
     ]
    }
   ],
   "source": [
    "outronome = str(input('Digite seu nome: '))\n",
    "idade = int(input('Digite sua idade: '))\n",
    "altura = float(input('Digite sua altura: '))"
   ]
  },
  {
   "cell_type": "code",
   "execution_count": 55,
   "metadata": {},
   "outputs": [
    {
     "data": {
      "text/plain": [
       "str"
      ]
     },
     "execution_count": 55,
     "metadata": {},
     "output_type": "execute_result"
    }
   ],
   "source": [
    "type(nome)"
   ]
  },
  {
   "cell_type": "code",
   "execution_count": 58,
   "metadata": {},
   "outputs": [
    {
     "data": {
      "text/plain": [
       "int"
      ]
     },
     "execution_count": 58,
     "metadata": {},
     "output_type": "execute_result"
    }
   ],
   "source": [
    "type(idade)"
   ]
  },
  {
   "cell_type": "code",
   "execution_count": 1,
   "metadata": {},
   "outputs": [
    {
     "name": "stdout",
     "output_type": "stream",
     "text": [
      "50\n"
     ]
    }
   ],
   "source": [
    "numeros = [19,20,30,40,50,60]\n",
    "print(numeros[4])"
   ]
  }
 ],
 "metadata": {
  "kernelspec": {
   "display_name": "Python 3",
   "language": "python",
   "name": "python3"
  },
  "language_info": {
   "codemirror_mode": {
    "name": "ipython",
    "version": 3
   },
   "file_extension": ".py",
   "mimetype": "text/x-python",
   "name": "python",
   "nbconvert_exporter": "python",
   "pygments_lexer": "ipython3",
   "version": "3.9.13"
  }
 },
 "nbformat": 4,
 "nbformat_minor": 2
}

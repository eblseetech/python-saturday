{
 "cells": [
  {
   "cell_type": "code",
   "execution_count": null,
   "metadata": {},
   "outputs": [
    {
     "name": "stdout",
     "output_type": "stream",
     "text": [
      "Eduardo Bacarine Lobato \n",
      "identação (hierarquia, no caso de estruturas de decisão), no Python, é obrigatório\n"
     ]
    }
   ],
   "source": [
    "\"\"\"Variáveis\n",
    "São espaços na memória, criados e identificados pelo programador, para armazenar dados diversos de uso múltiplo. \n",
    "Não pode ser palavra reservada e deve ser escrita sem espaços e sem acentos\n",
    "Pode ser usado padrão camelcase, ou seja, prática onde palavras compostas são unidas sem espaço,\n",
    "identificadas por letra maiúscula a partir da segunda palavra. toda a primeira palavra é escrita em minúsculo.\"\"\"\n",
    "\n",
    "nome = 'Eduardo'\n",
    "nome_completo = 'Bacarine Lobato'\n",
    "nomeCompleto = 'EduardoBacarineLobato'\n",
    "nomecompleto = 'funciona, mas não é uma boa prática'\n",
    "atencao = 'identação (hierarquia, no caso de estruturas de decisão), no Python, é obrigatório'\n",
    "print(nome, nome_completo)\n",
    "print(atencao)\n",
    "\n",
    "#comentários também contam para as boas práticas dos programadores,para identificação dos recursos utilizados.\n",
    "#No Python, eles podem ser feitos a qualquer momento, através de hashtags (#)\n"
   ]
  }
 ],
 "metadata": {
  "kernelspec": {
   "display_name": "Python 3",
   "language": "python",
   "name": "python3"
  },
  "language_info": {
   "codemirror_mode": {
    "name": "ipython",
    "version": 3
   },
   "file_extension": ".py",
   "mimetype": "text/x-python",
   "name": "python",
   "nbconvert_exporter": "python",
   "pygments_lexer": "ipython3",
   "version": "3.12.4"
  }
 },
 "nbformat": 4,
 "nbformat_minor": 2
}

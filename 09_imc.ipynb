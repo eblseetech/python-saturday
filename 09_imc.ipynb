{
 "cells": [
  {
   "cell_type": "code",
   "execution_count": 6,
   "metadata": {},
   "outputs": [],
   "source": [
    "#CRIAR UM PROGRAMA QUE RECEBA AS VARIÁVEIS ( NOME, IDADE, PESO E ALTURA ) E CALCULE O IMC"
   ]
  },
  {
   "cell_type": "code",
   "execution_count": 11,
   "metadata": {},
   "outputs": [
    {
     "name": "stdout",
     "output_type": "stream",
     "text": [
      "Eduardo Lobato\n",
      "idade:  51\n",
      "peso:  105.0  kg\n",
      "altura:  1.75  mt\n",
      "Seu IMC é  34.29 , ou seja, GORDÃO classe 1\n"
     ]
    }
   ],
   "source": [
    "nome = str(input('Digite seu nome: '))\n",
    "idade = int(input('Digite sua idade: '))\n",
    "peso = float(input('Digite seu peso: '))\n",
    "altura = float(input('Digite sua altura: '))\n",
    "imc = peso / altura**2\n",
    "print(nome)\n",
    "print('idade: ', idade)\n",
    "print('peso: ', peso, ' kg')\n",
    "print('altura: ', altura, ' mt')\n",
    "if imc < 18.5:\n",
    "    print(f'Seu IMC é ', round(imc,2), ', ou seja, abaixo do peso')\n",
    "elif imc >= 18.5 and imc <= 24.9:\n",
    "    print('Seu IMC é ',  round(imc,2), ', ou seja, peso normal')\n",
    "elif imc >= 25.0 and imc <= 29.9:\n",
    "    print('Seu IMC é ',  round(imc,2), ', ou seja, excesso de peso')\n",
    "elif imc >= 30.0 and imc <= 34.9:\n",
    "    print('Seu IMC é ',  round(imc,2), ', ou seja, GORDÃO classe 1')\n",
    "elif imc >= 35.0 and imc <= 39.9:\n",
    "    print('Seu IMC é ',  round(imc,2), ', ou seja, GORDÃO classe 2')\n",
    "elif imc >= 40.0 and imc <= 60.0:\n",
    "    print('Seu IMC é ',  round(imc,2), ', ou seja, GORDÃO classe 3')\n",
    "else:\n",
    "    print('resultado anormal, considere recalcular')\n"
   ]
  }
 ],
 "metadata": {
  "kernelspec": {
   "display_name": "Python 3",
   "language": "python",
   "name": "python3"
  },
  "language_info": {
   "codemirror_mode": {
    "name": "ipython",
    "version": 3
   },
   "file_extension": ".py",
   "mimetype": "text/x-python",
   "name": "python",
   "nbconvert_exporter": "python",
   "pygments_lexer": "ipython3",
   "version": "3.12.4"
  }
 },
 "nbformat": 4,
 "nbformat_minor": 2
}
